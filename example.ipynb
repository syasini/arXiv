{
 "cells": [
  {
   "cell_type": "code",
   "execution_count": null,
   "metadata": {
    "ExecuteTime": {
     "end_time": "2020-01-25T23:39:39.262991Z",
     "start_time": "2020-01-25T23:39:38.786509Z"
    }
   },
   "outputs": [],
   "source": [
    "from arxivester import Paper, arXiv, inSPIRE"
   ]
  },
  {
   "attachments": {},
   "cell_type": "markdown",
   "metadata": {},
   "source": [
    "# Harvest papers on arXiv"
   ]
  },
  {
   "attachments": {},
   "cell_type": "markdown",
   "metadata": {},
   "source": [
    "## Get papers in a specific date range "
   ]
  },
  {
   "attachments": {},
   "cell_type": "markdown",
   "metadata": {},
   "source": [
    "in order to scrape arxiv.org, first we need to instantiate a `Paper` object which specifies the date range (via `from_` and `to_` arguments, and the category via `set_` argument. For example:"
   ]
  },
  {
   "cell_type": "code",
   "execution_count": null,
   "metadata": {
    "ExecuteTime": {
     "end_time": "2020-01-25T23:39:44.015233Z",
     "start_time": "2020-01-25T23:39:41.977715Z"
    }
   },
   "outputs": [],
   "source": [
    "paper = Paper(from_=\"2023-05-01\",\n",
    "              to_=\"2023-07-01\",\n",
    "              set_=\"physics:astro-ph\",\n",
    "             )"
   ]
  },
  {
   "cell_type": "code",
   "execution_count": null,
   "metadata": {
    "ExecuteTime": {
     "end_time": "2020-01-25T23:39:45.829919Z",
     "start_time": "2020-01-25T23:39:45.780004Z"
    }
   },
   "outputs": [],
   "source": [
    "paper"
   ]
  },
  {
   "attachments": {},
   "cell_type": "markdown",
   "metadata": {},
   "source": [
    "by passing this object into an instance of `arXiv`, we start harvesting the records (this is implicitly done via `arXiv`'s `.harvest()` method."
   ]
  },
  {
   "cell_type": "code",
   "execution_count": null,
   "metadata": {
    "ExecuteTime": {
     "end_time": "2019-10-08T05:41:20.270097Z",
     "start_time": "2019-10-08T05:41:11.113068Z"
    }
   },
   "outputs": [],
   "source": [
    "arxiv = arXiv(paper)"
   ]
  },
  {
   "cell_type": "code",
   "execution_count": null,
   "metadata": {
    "ExecuteTime": {
     "end_time": "2019-10-08T05:41:21.939661Z",
     "start_time": "2019-10-08T05:41:21.898432Z"
    }
   },
   "outputs": [],
   "source": [
    "paper.pile.head()"
   ]
  },
  {
   "attachments": {},
   "cell_type": "markdown",
   "metadata": {
    "ExecuteTime": {
     "end_time": "2019-10-08T05:16:10.821998Z",
     "start_time": "2019-10-08T05:16:10.770296Z"
    }
   },
   "source": [
    "Note that the `from_`-`to_` date range does not necessarily specify the creation or updation (🤔?!) date "
   ]
  },
  {
   "cell_type": "code",
   "execution_count": null,
   "metadata": {
    "ExecuteTime": {
     "end_time": "2019-10-08T05:41:24.640335Z",
     "start_time": "2019-10-08T05:41:24.611419Z"
    }
   },
   "outputs": [],
   "source": [
    "print(f\"'datestamps' range between: {paper.pile.datestamp.min()} and {paper.pile.datestamp.max()}\")"
   ]
  },
  {
   "cell_type": "code",
   "execution_count": null,
   "metadata": {
    "ExecuteTime": {
     "end_time": "2019-10-08T05:41:25.330861Z",
     "start_time": "2019-10-08T05:41:25.297336Z"
    }
   },
   "outputs": [],
   "source": [
    "print(f\"'created' range between: {paper.pile.created.min()} and {paper.pile.created.max()}\")"
   ]
  },
  {
   "cell_type": "code",
   "execution_count": null,
   "metadata": {
    "ExecuteTime": {
     "end_time": "2019-10-08T05:41:25.865272Z",
     "start_time": "2019-10-08T05:41:25.836682Z"
    }
   },
   "outputs": [],
   "source": [
    "print(f\"'updated' range between: {paper.pile.updated.min()} and {paper.pile.updated.max()}\")"
   ]
  },
  {
   "attachments": {},
   "cell_type": "markdown",
   "metadata": {},
   "source": [
    "## save to file "
   ]
  },
  {
   "attachments": {},
   "cell_type": "markdown",
   "metadata": {
    "ExecuteTime": {
     "end_time": "2019-10-08T05:18:22.357009Z",
     "start_time": "2019-10-08T05:18:22.305121Z"
    }
   },
   "source": [
    "We can easily save the harvested data using"
   ]
  },
  {
   "cell_type": "code",
   "execution_count": null,
   "metadata": {
    "ExecuteTime": {
     "end_time": "2019-10-08T05:41:30.979653Z",
     "start_time": "2019-10-08T05:41:30.876789Z"
    }
   },
   "outputs": [],
   "source": [
    "paper.save_to_csv()"
   ]
  },
  {
   "attachments": {},
   "cell_type": "markdown",
   "metadata": {},
   "source": [
    "by default a cvs file is saved in the current directory under the following name:"
   ]
  },
  {
   "cell_type": "code",
   "execution_count": null,
   "metadata": {
    "ExecuteTime": {
     "end_time": "2019-10-08T05:41:32.041882Z",
     "start_time": "2019-10-08T05:41:31.999104Z"
    }
   },
   "outputs": [],
   "source": [
    "paper.get_file_name()"
   ]
  },
  {
   "attachments": {},
   "cell_type": "markdown",
   "metadata": {},
   "source": [
    "## Get today's papers"
   ]
  },
  {
   "attachments": {},
   "cell_type": "markdown",
   "metadata": {},
   "source": [
    "If no dates are passed to the `Paper` instance, the default date range is set to today's papers. Also the default category for `set_` is `physics:astro-ph`."
   ]
  },
  {
   "cell_type": "code",
   "execution_count": null,
   "metadata": {
    "ExecuteTime": {
     "end_time": "2019-10-08T05:41:36.792274Z",
     "start_time": "2019-10-08T05:41:33.172141Z"
    }
   },
   "outputs": [],
   "source": [
    "paper = Paper()\n",
    "arxiv = arXiv(paper)"
   ]
  },
  {
   "cell_type": "code",
   "execution_count": null,
   "metadata": {
    "ExecuteTime": {
     "end_time": "2019-10-08T05:41:37.578478Z",
     "start_time": "2019-10-08T05:41:37.526229Z"
    }
   },
   "outputs": [],
   "source": [
    "paper.pile.head()"
   ]
  },
  {
   "attachments": {},
   "cell_type": "markdown",
   "metadata": {},
   "source": [
    "# Harvest number of citations from inSPIRE"
   ]
  },
  {
   "attachments": {},
   "cell_type": "markdown",
   "metadata": {},
   "source": [
    "The number of citations can be scraped via the `inSPIRE` object. Let's load the papers that we previouslt scraped from arXiv."
   ]
  },
  {
   "cell_type": "code",
   "execution_count": null,
   "metadata": {
    "ExecuteTime": {
     "end_time": "2019-10-08T06:08:13.424433Z",
     "start_time": "2019-10-08T06:08:13.199398Z"
    }
   },
   "outputs": [],
   "source": [
    "paper = Paper(from_=\"2023-05-01\",\n",
    "              to_=\"2023-07-01\",\n",
    "              set_=\"physics:astro-ph\",\n",
    "             )\n",
    "paper.load_from_csv()"
   ]
  },
  {
   "attachments": {},
   "cell_type": "markdown",
   "metadata": {},
   "source": [
    "By passing `paper` to an instance of `inSPIRE` we start scraping the number of citations. The optional argument `n_chunks` makes parallelizes this process. By default `n_chunk` is set to the value returned by `multiprocessing.cpu_counts()`.\n",
    "Let's slice the first 100 papers and find the number of times they've been cited so far from inSPIRE."
   ]
  },
  {
   "cell_type": "code",
   "execution_count": null,
   "metadata": {
    "ExecuteTime": {
     "end_time": "2019-10-08T06:08:14.377372Z",
     "start_time": "2019-10-08T06:08:14.351657Z"
    }
   },
   "outputs": [],
   "source": [
    "paper.pile = paper.pile[:100]"
   ]
  },
  {
   "cell_type": "code",
   "execution_count": null,
   "metadata": {
    "ExecuteTime": {
     "end_time": "2019-10-08T06:09:44.316659Z",
     "start_time": "2019-10-08T06:08:15.158755Z"
    },
    "scrolled": false
   },
   "outputs": [],
   "source": [
    "inspire = inSPIRE(paper)"
   ]
  },
  {
   "cell_type": "code",
   "execution_count": null,
   "metadata": {
    "ExecuteTime": {
     "end_time": "2019-10-08T06:09:45.155900Z",
     "start_time": "2019-10-08T06:09:45.125763Z"
    }
   },
   "outputs": [],
   "source": [
    "paper.pile[\"n_citations\"].head()"
   ]
  },
  {
   "attachments": {},
   "cell_type": "markdown",
   "metadata": {},
   "source": [
    "**Voila!**"
   ]
  }
 ],
 "metadata": {
  "kernelspec": {
   "display_name": "Python 3",
   "language": "python",
   "name": "python3"
  },
  "language_info": {
   "codemirror_mode": {
    "name": "ipython",
    "version": 3
   },
   "file_extension": ".py",
   "mimetype": "text/x-python",
   "name": "python",
   "nbconvert_exporter": "python",
   "pygments_lexer": "ipython3",
   "version": "3.8.15"
  },
  "latex_envs": {
   "LaTeX_envs_menu_present": true,
   "autoclose": false,
   "autocomplete": true,
   "bibliofile": "biblio.bib",
   "cite_by": "apalike",
   "current_citInitial": 1,
   "eqLabelWithNumbers": true,
   "eqNumInitial": 1,
   "hotkeys": {
    "equation": "Ctrl-E",
    "itemize": "Ctrl-I"
   },
   "labels_anchors": false,
   "latex_user_defs": false,
   "report_style_numbering": false,
   "user_envs_cfg": false
  },
  "toc": {
   "base_numbering": 1,
   "nav_menu": {},
   "number_sections": true,
   "sideBar": true,
   "skip_h1_title": false,
   "title_cell": "Table of Contents",
   "title_sidebar": "Contents",
   "toc_cell": false,
   "toc_position": {},
   "toc_section_display": true,
   "toc_window_display": false
  },
  "varInspector": {
   "cols": {
    "lenName": 16,
    "lenType": 16,
    "lenVar": 40
   },
   "kernels_config": {
    "python": {
     "delete_cmd_postfix": "",
     "delete_cmd_prefix": "del ",
     "library": "var_list.py",
     "varRefreshCmd": "print(var_dic_list())"
    },
    "r": {
     "delete_cmd_postfix": ") ",
     "delete_cmd_prefix": "rm(",
     "library": "var_list.r",
     "varRefreshCmd": "cat(var_dic_list()) "
    }
   },
   "types_to_exclude": [
    "module",
    "function",
    "builtin_function_or_method",
    "instance",
    "_Feature"
   ],
   "window_display": false
  }
 },
 "nbformat": 4,
 "nbformat_minor": 2
}
